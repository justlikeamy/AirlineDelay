{
 "cells": [
  {
   "cell_type": "markdown",
   "metadata": {},
   "source": [
    "# Import Packages and Global Params"
   ]
  },
  {
   "cell_type": "code",
   "execution_count": 41,
   "metadata": {},
   "outputs": [],
   "source": [
    "####################################\n",
    "#  Amy Edwards\n",
    "#  CSC 540 \n",
    "#  Final Project\n",
    "#  March 18, 2019\n",
    "#  Code based on Scikit Template \n",
    "#  created by Casey Bennett 2018, \n",
    "#  www.CaseyBennett.com\n",
    "#####################################\n",
    "\n",
    "import sys\n",
    "import csv\n",
    "import math\n",
    "import numpy as np\n",
    "from operator import itemgetter\n",
    "import time\n",
    "import pandas as pd\n",
    "import matplotlib.pyplot as plt\n",
    "\n",
    "\n",
    "from sklearn.ensemble import ExtraTreesRegressor\n",
    "from sklearn.feature_selection import RFE\n",
    "from sklearn.linear_model import LogisticRegression, LinearRegression\n",
    "from sklearn.svm import SVC\n",
    "from sklearn.ensemble import GradientBoostingClassifier, AdaBoostClassifier, GradientBoostingRegressor, AdaBoostRegressor, BaggingRegressor\n",
    "from sklearn.neural_network import MLPClassifier, MLPRegressor\n",
    "from sklearn.tree import DecisionTreeClassifier, DecisionTreeRegressor, ExtraTreeRegressor\n",
    "from sklearn.ensemble import RandomForestClassifier, RandomForestRegressor\n",
    "from sklearn.externals import joblib\n",
    "from sklearn.feature_selection import RFE, VarianceThreshold, SelectFromModel\n",
    "from sklearn.feature_selection import SelectKBest, mutual_info_regression, mutual_info_classif, chi2\n",
    "from sklearn import metrics\n",
    "from sklearn.model_selection import cross_validate, train_test_split\n",
    "from sklearn.preprocessing import KBinsDiscretizer, scale, LabelEncoder\n",
    "from sklearn.model_selection import GridSearchCV\n",
    "\n",
    "#Handle annoying warnings\n",
    "import warnings, sklearn.exceptions\n",
    "warnings.filterwarnings(\"ignore\", category=sklearn.exceptions.ConvergenceWarning)\n",
    "\n",
    "\n",
    "########################\n",
    "#\n",
    "#   Global parameters\n",
    "#\n",
    "########################\n",
    "\n",
    "target_idx= 0                                       #Index of Target variable\n",
    "cross_val=1                                        #Control Switch for CV\n",
    "norm_target=1                                       #Normalize target switch\n",
    "norm_features=0                                     #Normalize feature switch\n",
    "binning=1                                           #Control Switch for Bin Target\n",
    "bin_cnt=2                                           #If bin target, this sets number of classes\n",
    "feat_select=1                                       #Control Switch for Feature Selection\n",
    "fs_type=2                                         #Feature Selection type (1=Stepwise Backwards Removal, 2=Wrapper Select, 3=Univariate Selection)\n",
    "lv_filter=0                                         #Control switch for low variance filter on features\n",
    "feat_start=1                                        #Start column of features\n",
    "k_cnt=5                                             #Number of 'Top k' best ranked features to select, only applies for fs_types 1 and 3\n",
    "\n",
    "#Set global model parameters\n",
    "rand_st=0                                           #Set Random State variable for randomizing splits on runs\n",
    "\n",
    "\n"
   ]
  },
  {
   "cell_type": "markdown",
   "metadata": {},
   "source": [
    "# Import Data"
   ]
  },
  {
   "cell_type": "code",
   "execution_count": 42,
   "metadata": {},
   "outputs": [
    {
     "name": "stdout",
     "output_type": "stream",
     "text": [
      "['target', 'DISTANCE', 'DIVERTED', 'MONTH_2', 'MONTH_3', 'MONTH_4', 'MONTH_5', 'MONTH_6', 'MONTH_7', 'MONTH_8', 'MONTH_9', 'MONTH_10', 'MONTH_11', 'MONTH_12', 'DAY_OF_WEEK_2', 'DAY_OF_WEEK_3', 'DAY_OF_WEEK_4', 'DAY_OF_WEEK_5', 'DAY_OF_WEEK_6', 'DAY_OF_WEEK_7', 'AIRLINE_AS', 'AIRLINE_B6', 'AIRLINE_DL', 'AIRLINE_EV', 'AIRLINE_F9', 'AIRLINE_HA', 'AIRLINE_MQ', 'AIRLINE_NK', 'AIRLINE_OO', 'AIRLINE_UA', 'AIRLINE_US', 'AIRLINE_VX', 'AIRLINE_WN', 'ORIGIN_AIRPORT_ATL', 'ORIGIN_AIRPORT_AUS', 'ORIGIN_AIRPORT_BDL', 'ORIGIN_AIRPORT_BNA', 'ORIGIN_AIRPORT_BOS', 'ORIGIN_AIRPORT_BUR', 'ORIGIN_AIRPORT_BWI', 'ORIGIN_AIRPORT_CLE', 'ORIGIN_AIRPORT_CLT', 'ORIGIN_AIRPORT_CMH', 'ORIGIN_AIRPORT_CVG', 'ORIGIN_AIRPORT_DAL', 'ORIGIN_AIRPORT_DCA', 'ORIGIN_AIRPORT_DEN', 'ORIGIN_AIRPORT_DFW', 'ORIGIN_AIRPORT_DTW', 'ORIGIN_AIRPORT_EWR', 'ORIGIN_AIRPORT_FLL', 'ORIGIN_AIRPORT_HNL', 'ORIGIN_AIRPORT_HOU', 'ORIGIN_AIRPORT_IAD', 'ORIGIN_AIRPORT_IAH', 'ORIGIN_AIRPORT_IND', 'ORIGIN_AIRPORT_JAX', 'ORIGIN_AIRPORT_JFK', 'ORIGIN_AIRPORT_LAS', 'ORIGIN_AIRPORT_LAX', 'ORIGIN_AIRPORT_LGA', 'ORIGIN_AIRPORT_MCI', 'ORIGIN_AIRPORT_MCO', 'ORIGIN_AIRPORT_MDW', 'ORIGIN_AIRPORT_MIA', 'ORIGIN_AIRPORT_MKE', 'ORIGIN_AIRPORT_MSP', 'ORIGIN_AIRPORT_MSY', 'ORIGIN_AIRPORT_OAK', 'ORIGIN_AIRPORT_OGG', 'ORIGIN_AIRPORT_ONT', 'ORIGIN_AIRPORT_ORD', 'ORIGIN_AIRPORT_PBI', 'ORIGIN_AIRPORT_PDX', 'ORIGIN_AIRPORT_PHL', 'ORIGIN_AIRPORT_PHX', 'ORIGIN_AIRPORT_PIT', 'ORIGIN_AIRPORT_RDU', 'ORIGIN_AIRPORT_RSW', 'ORIGIN_AIRPORT_SAN', 'ORIGIN_AIRPORT_SAT', 'ORIGIN_AIRPORT_SEA', 'ORIGIN_AIRPORT_SFO', 'ORIGIN_AIRPORT_SJC', 'ORIGIN_AIRPORT_SJU', 'ORIGIN_AIRPORT_SLC', 'ORIGIN_AIRPORT_SMF', 'ORIGIN_AIRPORT_SNA', 'ORIGIN_AIRPORT_STL', 'ORIGIN_AIRPORT_TPA', 'DESTINATION_AIRPORT_ATL', 'DESTINATION_AIRPORT_AUS', 'DESTINATION_AIRPORT_BDL', 'DESTINATION_AIRPORT_BNA', 'DESTINATION_AIRPORT_BOS', 'DESTINATION_AIRPORT_BUR', 'DESTINATION_AIRPORT_BWI', 'DESTINATION_AIRPORT_CLE', 'DESTINATION_AIRPORT_CLT', 'DESTINATION_AIRPORT_CMH', 'DESTINATION_AIRPORT_CVG', 'DESTINATION_AIRPORT_DAL', 'DESTINATION_AIRPORT_DCA', 'DESTINATION_AIRPORT_DEN', 'DESTINATION_AIRPORT_DFW', 'DESTINATION_AIRPORT_DTW', 'DESTINATION_AIRPORT_EWR', 'DESTINATION_AIRPORT_FLL', 'DESTINATION_AIRPORT_HNL', 'DESTINATION_AIRPORT_HOU', 'DESTINATION_AIRPORT_IAD', 'DESTINATION_AIRPORT_IAH', 'DESTINATION_AIRPORT_IND', 'DESTINATION_AIRPORT_JAX', 'DESTINATION_AIRPORT_JFK', 'DESTINATION_AIRPORT_LAS', 'DESTINATION_AIRPORT_LAX', 'DESTINATION_AIRPORT_LGA', 'DESTINATION_AIRPORT_MCI', 'DESTINATION_AIRPORT_MCO', 'DESTINATION_AIRPORT_MDW', 'DESTINATION_AIRPORT_MIA', 'DESTINATION_AIRPORT_MKE', 'DESTINATION_AIRPORT_MSP', 'DESTINATION_AIRPORT_MSY', 'DESTINATION_AIRPORT_OAK', 'DESTINATION_AIRPORT_OGG', 'DESTINATION_AIRPORT_ONT', 'DESTINATION_AIRPORT_ORD', 'DESTINATION_AIRPORT_PBI', 'DESTINATION_AIRPORT_PDX', 'DESTINATION_AIRPORT_PHL', 'DESTINATION_AIRPORT_PHX', 'DESTINATION_AIRPORT_PIT', 'DESTINATION_AIRPORT_RDU', 'DESTINATION_AIRPORT_RSW', 'DESTINATION_AIRPORT_SAN', 'DESTINATION_AIRPORT_SAT', 'DESTINATION_AIRPORT_SEA', 'DESTINATION_AIRPORT_SFO', 'DESTINATION_AIRPORT_SJC', 'DESTINATION_AIRPORT_SJU', 'DESTINATION_AIRPORT_SLC', 'DESTINATION_AIRPORT_SMF', 'DESTINATION_AIRPORT_SNA', 'DESTINATION_AIRPORT_STL', 'DESTINATION_AIRPORT_TPA', 'SCHEDULED_DEPARTURE_2', 'SCHEDULED_DEPARTURE_3', 'SCHEDULED_DEPARTURE_4']\n",
      "102904 102904\n",
      "\n",
      "\n"
     ]
    }
   ],
   "source": [
    "\n",
    "#####################\n",
    "#\n",
    "#    Load Data\n",
    "#\n",
    "#####################\n",
    "\n",
    "file1= csv.reader(open('regress_departure.csv'), delimiter=',', quotechar='\"')\n",
    "\n",
    "#Read Header Line\n",
    "header=next(file1)            \n",
    "\n",
    "#Read data\n",
    "data=[]\n",
    "target=[]\n",
    "for row in file1:\n",
    "    #Load Target\n",
    "    if row[target_idx]=='':                         #If target is blank, skip row                       \n",
    "        continue\n",
    "    else:\n",
    "        target.append(float(row[target_idx]))       #If pre-binned class, change float to int\n",
    "\n",
    "    #Load row into temp array, cast columns  \n",
    "    temp=[]\n",
    "                 \n",
    "    for j in range(feat_start,len(header)):\n",
    "        if j == target_idx:\n",
    "            continue\n",
    "        if row[j]=='':\n",
    "            temp.append(float())\n",
    "        else:\n",
    "            temp.append(float(row[j]))\n",
    "\n",
    "    #Load temp into Data array\n",
    "    data.append(temp)\n",
    "  \n",
    "#Test Print\n",
    "print(header)\n",
    "print(len(target),len(data))\n",
    "'''for i in range(10):\n",
    "    print(target[i])\n",
    "    print(data[i])'''\n",
    "print('\\n')\n",
    "\n",
    "data_np=np.asarray(data)\n",
    "target_np=np.asarray(target)\n",
    "\n"
   ]
  },
  {
   "cell_type": "markdown",
   "metadata": {},
   "source": [
    "# Preprocessing and Feature Selection"
   ]
  },
  {
   "cell_type": "code",
   "execution_count": 43,
   "metadata": {},
   "outputs": [
    {
     "name": "stdout",
     "output_type": "stream",
     "text": [
      "--FEATURE SELECTION ON-- \n",
      "\n",
      "Wrapper Select - Random Forest: \n",
      "Selected ['DISTANCE', 'DIVERTED', 'MONTH_2', 'MONTH_5', 'MONTH_6', 'MONTH_7', 'MONTH_8', 'MONTH_9', 'MONTH_10', 'MONTH_11', 'MONTH_12', 'DAY_OF_WEEK_2', 'DAY_OF_WEEK_3', 'DAY_OF_WEEK_4', 'DAY_OF_WEEK_5', 'DAY_OF_WEEK_6', 'DAY_OF_WEEK_7', 'AIRLINE_AS', 'AIRLINE_B6', 'AIRLINE_DL', 'AIRLINE_F9', 'AIRLINE_HA', 'AIRLINE_NK', 'AIRLINE_UA', 'AIRLINE_US', 'AIRLINE_WN', 'ORIGIN_AIRPORT_ATL', 'ORIGIN_AIRPORT_AUS', 'ORIGIN_AIRPORT_CVG', 'ORIGIN_AIRPORT_JFK', 'ORIGIN_AIRPORT_OGG', 'ORIGIN_AIRPORT_ORD', 'ORIGIN_AIRPORT_PIT', 'ORIGIN_AIRPORT_SFO', 'DESTINATION_AIRPORT_DFW', 'DESTINATION_AIRPORT_EWR', 'DESTINATION_AIRPORT_HNL', 'DESTINATION_AIRPORT_JFK', 'DESTINATION_AIRPORT_LGA', 'DESTINATION_AIRPORT_ORD', 'DESTINATION_AIRPORT_SFO', 'SCHEDULED_DEPARTURE_2', 'SCHEDULED_DEPARTURE_3', 'SCHEDULED_DEPARTURE_4']\n",
      "Features (total/selected): 149 44\n",
      "\n",
      "\n"
     ]
    }
   ],
   "source": [
    "############################\n",
    "#\n",
    "# Preprocess data\n",
    "#\n",
    "###########################\n",
    "\n",
    "\n",
    "if norm_target==1:\n",
    "    #Target normalization for continuous values\n",
    "    target_np=scale(target_np)\n",
    "\n",
    "if norm_features==1:\n",
    "    #Feature normalization for continuous values\n",
    "    data_np=scale(data_np)\n",
    "\n",
    "\n",
    "#############################\n",
    "#\n",
    "# Feature Selection\n",
    "#\n",
    "#############################\n",
    "\n",
    "\n",
    "#Feature Selection\n",
    "if feat_select==1:\n",
    "    '''Three steps:\n",
    "       1) Run Feature Selection\n",
    "       2) Get lists of selected and non-selected features\n",
    "       3) Filter columns from original dataset\n",
    "       '''\n",
    "    \n",
    "    print('--FEATURE SELECTION ON--', '\\n')\n",
    "    \n",
    "    ##1) Run Feature Selection #######\n",
    "    if fs_type==1:\n",
    "        #stepwise backward\n",
    "        rgr = RandomForestRegressor(n_estimators=500, max_depth=None, min_samples_split=3, criterion='mse', random_state=None)\n",
    "        sel = RFE(rgr, n_features_to_select=k_cnt, step=.1)\n",
    "        print('Stepwise Recursive Backwards - Random Forest: ')\n",
    "            \n",
    "        fit_mod=sel.fit(data_np, target_np)\n",
    "        print(sel.ranking_)\n",
    "        sel_idx=fit_mod.get_support()      \n",
    "\n",
    "    if fs_type==2:\n",
    "        #Wrapper Select via model\n",
    "    \n",
    "        rgr =GradientBoostingRegressor(loss = 'ls', n_estimators = 200, learning_rate = 0.03, max_depth = 10, min_samples_split = 500, max_features = 'auto',random_state = rand_st,subsample = 0.8)\n",
    "        sel = SelectFromModel(rgr, prefit=False, threshold='mean', max_features=None)\n",
    "        print ('Wrapper Select - Random Forest: ')\n",
    "            \n",
    "        fit_mod=sel.fit(data_np, target_np)    \n",
    "        sel_idx=fit_mod.get_support()\n",
    "\n",
    "    if fs_type==3:       \n",
    "    ######Only work if the Target is continuous###########\n",
    "        #Univariate Feature Selection - Mutual Info Regression\n",
    "        sel=SelectKBest(mutual_info_regression, k=k_cnt)\n",
    "        fit_mod=sel.fit(data_np, target_np)\n",
    "        print ('Univariate Feature Selection - Mutual Info: ')\n",
    "        sel_idx=fit_mod.get_support()\n",
    "\n",
    "        #Print ranked variables out sorted\n",
    "        temp=[]\n",
    "        scores=fit_mod.scores_\n",
    "        for i in range(feat_start, len(header)):            \n",
    "            temp.append([header[i], float(scores[i-feat_start])])\n",
    "\n",
    "        print('Ranked Features')\n",
    "        temp_sort=sorted(temp, key=itemgetter(1), reverse=True)\n",
    "        for i in range(len(temp_sort)):\n",
    "            print(i, temp_sort[i][0], ':', temp_sort[i][1])\n",
    "        print('\\n')\n",
    "\n",
    "    ##2) Get lists of selected and non-selected features (names and indexes) #######\n",
    "    temp=[]\n",
    "    temp_idx=[]\n",
    "    temp_del=[]\n",
    "    for i in range(len(data_np[0])):\n",
    "        if sel_idx[i]==1:                                                           #Selected Features get added to temp header\n",
    "            temp.append(header[i+feat_start])\n",
    "            temp_idx.append(i)\n",
    "        else:                                                                       #Indexes of non-selected features get added to delete array\n",
    "            temp_del.append(i)\n",
    "    print('Selected', temp)\n",
    "    print('Features (total/selected):', len(data_np[0]), len(temp))\n",
    "    print('\\n')\n",
    "            \n",
    "                \n",
    "    ##3) Filter selected columns from original dataset #########\n",
    "    header = header[0:feat_start]\n",
    "    for field in temp:\n",
    "        header.append(field)\n",
    "    data_np = np.delete(data_np, temp_del, axis=1)                                 #Deletes non-selected features by index)\n",
    "\n"
   ]
  },
  {
   "cell_type": "markdown",
   "metadata": {},
   "source": [
    "# Train / Test Split"
   ]
  },
  {
   "cell_type": "code",
   "execution_count": 44,
   "metadata": {
    "scrolled": true
   },
   "outputs": [
    {
     "name": "stdout",
     "output_type": "stream",
     "text": [
      "--ML Model Output-- \n",
      "\n"
     ]
    }
   ],
   "source": [
    "##################################\n",
    "#\n",
    "#     Train SciKit Models\n",
    "#\n",
    "##################################\n",
    "\n",
    "print('--ML Model Output--', '\\n')\n",
    "\n",
    "# Test/Train split\n",
    "data_train, data_test, target_train, target_test = train_test_split(data_np, target_np, test_size=0.35)\n"
   ]
  },
  {
   "cell_type": "markdown",
   "metadata": {},
   "source": [
    "# Various Models to test"
   ]
  },
  {
   "cell_type": "code",
   "execution_count": 31,
   "metadata": {},
   "outputs": [
    {
     "name": "stdout",
     "output_type": "stream",
     "text": [
      "Gradient Boosting RMSE: 81.5895 (+/- 44.4010)\n",
      "Gradient Boosting Expl Var: -0.3288 (+/- 0.8097)\n",
      "CV Runtime: 212.448016166687\n"
     ]
    }
   ],
   "source": [
    "#Setup Crossval regression scorers\n",
    "scorers = {'Neg_MSE': 'neg_mean_squared_error', 'expl_var': 'explained_variance'} \n",
    "#SciKit Gradient Boosting - Cross Val\n",
    "start_ts=time.time()\n",
    "#model= GradientBoostingRegressor(loss = 'ls', n_estimators = 200, learning_rate = 0.03, max_depth = 10, min_samples_split = 500, max_features = 'auto',random_state = rand_st,subsample = 0.8)\n",
    "#model = Ridge(alpha=1, fit_intercept=True, normalize=False, copy_X=True, max_iter=None, tol=0.001, solver='auto', random_state=rand_st)\n",
    "model = GradientBoostingRegressor(n_estimators=100, learning_rate=0.1,random_state=rand_st, loss='ls')\n",
    "scores = cross_validate(model, data_np, y = target_np, scoring = scorers, cv = 5)\n",
    "scores_RMSE = np.asarray([math.sqrt(-x) for x in scores['test_Neg_MSE']])                                       #Turns negative MSE scores into RMSE\n",
    "scores_Expl_Var = scores['test_expl_var']\n",
    "print(\"Gradient Boosting RMSE: %0.4f (+/- %0.4f)\" % ((scores_RMSE.mean()), (scores_RMSE.std() * 2)))\n",
    "print(\"Gradient Boosting Expl Var: %0.4f (+/- %0.4f)\" % ((scores_Expl_Var.mean()), (scores_Expl_Var.std() * 2)))\n",
    "print(\"CV Runtime:\", time.time()-start_ts)"
   ]
  },
  {
   "cell_type": "code",
   "execution_count": 32,
   "metadata": {},
   "outputs": [
    {
     "name": "stdout",
     "output_type": "stream",
     "text": [
      "Neural Net RMSE: 83.22 (+/- 44.03)\n",
      "Neural Net Expl Var: -0.15 (+/- 0.57)\n",
      "CV Runtime: 27.30138325691223\n"
     ]
    }
   ],
   "source": [
    "#SciKit Neural Network - Cross Val\n",
    "start_ts=time.time()\n",
    "model_NN=MLPRegressor(activation='logistic', solver = 'lbfgs', max_iter= 1000, hidden_layer_sizes = (10,), alpha = 0.0001, random_state = rand_st)\n",
    "scores = cross_validate(model_NN, data_np, y = target_np, scoring = scorers, cv = 5)\n",
    "scores_RMSE = np.asarray([math.sqrt(-x) for x in scores['test_Neg_MSE']])            #Turns negative MSE scores into RMSE                                             \n",
    "scores_Expl_Var = scores['test_expl_var']\n",
    "print(\"Neural Net RMSE: %0.2f (+/- %0.2f)\" % ((scores_RMSE.mean()), (scores_RMSE.std()* 2)))\n",
    "print(\"Neural Net Expl Var: %0.2f (+/- %0.2f)\" % ((scores_Expl_Var.mean()), (scores_Expl_Var.std() * 2)))\n",
    "print(\"CV Runtime:\", time.time()-start_ts)"
   ]
  },
  {
   "cell_type": "code",
   "execution_count": 27,
   "metadata": {},
   "outputs": [
    {
     "name": "stdout",
     "output_type": "stream",
     "text": [
      "Linear RMSE:: 81.31 (+/- 44.23)\n",
      "Linear Expl Var: -0.60 (+/- 1.46)\n",
      "CV Runtime: 1.8268680572509766\n"
     ]
    }
   ],
   "source": [
    "start_ts=time.time()\n",
    "model_Linear = LinearRegression()\n",
    "scores = cross_validate(model_Linear, data_np, target_np, scoring=scorers, cv=5)\n",
    "scores_RMSE = np.asarray([math.sqrt(-x) for x in scores ['test_Neg_MSE']]) #Turns negative MSE scores into RMSE\n",
    "scores_Expl_Var = scores['test_expl_var']\n",
    "print(\"Linear RMSE:: %0.2f (+/- %0.2f)\" % ((scores_RMSE.mean()), (scores_RMSE.std() * 2)))\n",
    "print(\"Linear Expl Var: %0.2f (+/- %0.2f)\" % ((scores_Expl_Var.mean()), (scores_Expl_Var.std() * 2)))\n",
    "print(\"CV Runtime:\", time.time()-start_ts)"
   ]
  },
  {
   "cell_type": "code",
   "execution_count": 33,
   "metadata": {},
   "outputs": [
    {
     "name": "stdout",
     "output_type": "stream",
     "text": [
      "Random Forest RMSE:: 84.55 (+/- 41.27)\n",
      "Random Forest Expl Var: -2.97 (+/- 7.00)\n",
      "CV Runtime: 456.64047718048096\n"
     ]
    }
   ],
   "source": [
    "#SciKit Random Forest Regressor - Cross Val\n",
    "start_ts=time.time()\n",
    "model_Forest = RandomForestRegressor(n_estimators = 100, max_features = 0.33, max_depth = None, random_state = rand_st, min_samples_split = 3) \n",
    "scores = cross_validate(model_Forest, data_np, y = target_np, scoring = scorers, cv = 5)\n",
    "scores_RMSE = np.asarray([math.sqrt(-x) for x in scores['test_Neg_MSE']])                                       #Turns negative MSE scores into RMSE\n",
    "scores_Expl_Var = scores['test_expl_var']\n",
    "print(\"Random Forest RMSE:: %0.2f (+/- %0.2f)\" % ((scores_RMSE.mean()), (scores_RMSE.std() * 2)))\n",
    "print(\"Random Forest Expl Var: %0.2f (+/- %0.2f)\" % ((scores_Expl_Var.mean()), (scores_Expl_Var.std() * 2)))\n",
    "print(\"CV Runtime:\", time.time()-start_ts)"
   ]
  },
  {
   "cell_type": "code",
   "execution_count": 30,
   "metadata": {},
   "outputs": [
    {
     "name": "stdout",
     "output_type": "stream",
     "text": [
      "Decision Tree RMSE:: 110.70 (+/- 26.56)\n",
      "Decision Tree Expl Var: -16.88 (+/- 39.10)\n",
      "CV Runtime: 20.465000867843628\n"
     ]
    }
   ],
   "source": [
    "#SciKit Decision Tree Regressor - Cross Val\n",
    "start_ts=time.time()\n",
    "model_Decision = DecisionTreeRegressor(criterion='mse', splitter='best', max_depth=None, min_samples_split=2, min_samples_leaf=1, max_features=None, random_state=rand_st)\n",
    "scores = cross_validate(model_Decision, data_np, target_np, scoring=scorers, cv=5)\n",
    "scores_RMSE = np.asarray([math.sqrt(-x) for x in scores ['test_Neg_MSE']]) #Turns negative MSE scores into RMSE\n",
    "scores_Expl_Var = scores['test_expl_var']\n",
    "print(\"Decision Tree RMSE:: %0.2f (+/- %0.2f)\" % ((scores_RMSE.mean()), (scores_RMSE.std() * 2)))\n",
    "print(\"Decision Tree Expl Var: %0.2f (+/- %0.2f)\" % ((scores_Expl_Var.mean()), (scores_Expl_Var.std() * 2)))\n",
    "print(\"CV Runtime:\", time.time()-start_ts)"
   ]
  },
  {
   "cell_type": "code",
   "execution_count": 37,
   "metadata": {},
   "outputs": [
    {
     "name": "stdout",
     "output_type": "stream",
     "text": [
      "Decision Bag Tree RMSE:: 87.23 (+/- 40.45)\n",
      "Decision Bag Tree Expl Var: -4.18 (+/- 9.80)\n",
      "CV Runtime: 82.01302599906921\n"
     ]
    }
   ],
   "source": [
    "#SciKit Bagging Regressor\n",
    "start_ts=time.time()\n",
    "dgr = DecisionTreeRegressor(criterion='mse', splitter='best', max_depth=None, min_samples_split=2, min_samples_leaf=1, max_features=None, random_state=rand_st) \n",
    "bag = BaggingRegressor(dgr, max_samples = 0.6, random_state = rand_st)\n",
    "scores = cross_validate(bag, data_np, target_np, scoring=scorers, cv=5)\n",
    "\n",
    "scores_RMSE = np.asarray([math.sqrt(-x) for x in scores ['test_Neg_MSE']]) #Turns negative MSE scores into RMSE\n",
    "scores_Expl_Var = scores['test_expl_var']\n",
    "print(\"Decision Bag Tree RMSE:: %0.2f (+/- %0.2f)\" % ((scores_RMSE.mean()), (scores_RMSE.std() * 2)))\n",
    "print(\"Decision Bag Tree Expl Var: %0.2f (+/- %0.2f)\" % ((scores_Expl_Var.mean()), (scores_Expl_Var.std() * 2)))\n",
    "print(\"CV Runtime:\", time.time()-start_ts)"
   ]
  },
  {
   "cell_type": "markdown",
   "metadata": {},
   "source": [
    "## Another round of feature selection using extra trees"
   ]
  },
  {
   "cell_type": "code",
   "execution_count": 39,
   "metadata": {},
   "outputs": [
    {
     "name": "stderr",
     "output_type": "stream",
     "text": [
      "/Users/amyeds/miniconda3/lib/python3.6/site-packages/sklearn/ensemble/forest.py:246: FutureWarning: The default value of n_estimators will change from 10 in version 0.20 to 100 in 0.22.\n",
      "  \"10 in version 0.20 to 100 in 0.22.\", FutureWarning)\n"
     ]
    },
    {
     "name": "stdout",
     "output_type": "stream",
     "text": [
      "[0.04650333 0.00256643 0.016071   0.0208238  0.0178605  0.02049037\n",
      " 0.01691452 0.01302015 0.01906563 0.00916417 0.00767533 0.01762142\n",
      " 0.00723327 0.03142324 0.0392198  0.03657404 0.03627935 0.0365329\n",
      " 0.04053752 0.0027948  0.00325186 0.014286   0.00360874 0.00209715\n",
      " 0.0011153  0.00196672 0.0031191  0.0061848  0.00364134 0.00289269\n",
      " 0.00224429 0.00841067 0.00732292 0.00370526 0.0016891  0.00397167\n",
      " 0.00619285 0.00147421 0.00458455 0.00570226 0.00453142 0.00242122\n",
      " 0.00188086 0.0026109  0.00555695 0.00875351 0.00660212 0.00362439\n",
      " 0.00573204 0.00520841 0.00165142 0.00154004 0.0039404  0.00493459\n",
      " 0.00292926 0.00256712 0.00415882 0.00991482 0.00748506 0.00529732\n",
      " 0.00285585 0.00899274 0.00275343 0.0044049  0.00321344 0.00469238\n",
      " 0.00425977 0.00185467 0.00156151 0.00164956 0.00918085 0.00262019\n",
      " 0.00278757 0.00543741 0.00520149 0.00336781 0.00320468 0.0026376\n",
      " 0.00501193 0.00309475 0.00422053 0.00583082 0.00174037 0.0057121\n",
      " 0.00305849 0.00265632 0.00368966 0.00387999 0.00553067 0.01083787\n",
      " 0.00342302 0.00144891 0.0026753  0.00742872 0.00081819 0.00345739\n",
      " 0.00359716 0.00380325 0.00161087 0.0013217  0.00263511 0.00415362\n",
      " 0.00910138 0.01037978 0.00806497 0.00607344 0.00512473 0.00246285\n",
      " 0.0021368  0.00315803 0.00611783 0.00207059 0.00149034 0.00315919\n",
      " 0.00657963 0.01412344 0.00459683 0.00241686 0.00664317 0.00361468\n",
      " 0.00486404 0.00206157 0.00851098 0.00273822 0.00177053 0.00138349\n",
      " 0.00105931 0.00721617 0.00291562 0.00291269 0.00464978 0.00602802\n",
      " 0.00262992 0.00272963 0.00163564 0.00483122 0.0016777  0.00352187\n",
      " 0.00613129 0.00227096 0.00245831 0.00500367 0.00211528 0.00174611\n",
      " 0.00321234 0.00494746 0.01436836 0.0100948  0.00771415]\n"
     ]
    }
   ],
   "source": [
    "model = ExtraTreesRegressor() \n",
    "model.fit(data_train, target_train) \n",
    "print(model.feature_importances_)"
   ]
  },
  {
   "cell_type": "code",
   "execution_count": 40,
   "metadata": {},
   "outputs": [
    {
     "data": {
      "image/png": "[encoded data removed]",
      "text/plain": [
       "<Figure size 1152x864 with 1 Axes>"
      ]
     },
     "metadata": {
      "needs_background": "light"
     },
     "output_type": "display_data"
    }
   ],
   "source": [
    "#plot graph of feature importances for better visualization \n",
    "feat_importances = pd.Series(model.feature_importances_, index=['DISTANCE', 'DIVERTED', 'MONTH_2', 'MONTH_3', 'MONTH_4', 'MONTH_5', 'MONTH_6', 'MONTH_7', 'MONTH_8', 'MONTH_9', 'MONTH_10', 'MONTH_11', 'MONTH_12', 'DAY_OF_WEEK_2', 'DAY_OF_WEEK_3', 'DAY_OF_WEEK_4', 'DAY_OF_WEEK_5', 'DAY_OF_WEEK_6', 'DAY_OF_WEEK_7', 'AIRLINE_AS', 'AIRLINE_B6', 'AIRLINE_DL', 'AIRLINE_EV', 'AIRLINE_F9', 'AIRLINE_HA', 'AIRLINE_MQ', 'AIRLINE_NK', 'AIRLINE_OO', 'AIRLINE_UA', 'AIRLINE_US', 'AIRLINE_VX', 'AIRLINE_WN', 'ORIGIN_AIRPORT_ATL', 'ORIGIN_AIRPORT_AUS', 'ORIGIN_AIRPORT_BDL', 'ORIGIN_AIRPORT_BNA', 'ORIGIN_AIRPORT_BOS', 'ORIGIN_AIRPORT_BUR', 'ORIGIN_AIRPORT_BWI', 'ORIGIN_AIRPORT_CLE', 'ORIGIN_AIRPORT_CLT', 'ORIGIN_AIRPORT_CMH', 'ORIGIN_AIRPORT_CVG', 'ORIGIN_AIRPORT_DAL', 'ORIGIN_AIRPORT_DCA', 'ORIGIN_AIRPORT_DEN', 'ORIGIN_AIRPORT_DFW', 'ORIGIN_AIRPORT_DTW', 'ORIGIN_AIRPORT_EWR', 'ORIGIN_AIRPORT_FLL', 'ORIGIN_AIRPORT_HNL', 'ORIGIN_AIRPORT_HOU', 'ORIGIN_AIRPORT_IAD', 'ORIGIN_AIRPORT_IAH', 'ORIGIN_AIRPORT_IND', 'ORIGIN_AIRPORT_JAX', 'ORIGIN_AIRPORT_JFK', 'ORIGIN_AIRPORT_LAS', 'ORIGIN_AIRPORT_LAX', 'ORIGIN_AIRPORT_LGA', 'ORIGIN_AIRPORT_MCI', 'ORIGIN_AIRPORT_MCO', 'ORIGIN_AIRPORT_MDW', 'ORIGIN_AIRPORT_MIA', 'ORIGIN_AIRPORT_MKE', 'ORIGIN_AIRPORT_MSP', 'ORIGIN_AIRPORT_MSY', 'ORIGIN_AIRPORT_OAK', 'ORIGIN_AIRPORT_OGG', 'ORIGIN_AIRPORT_ONT', 'ORIGIN_AIRPORT_ORD', 'ORIGIN_AIRPORT_PBI', 'ORIGIN_AIRPORT_PDX', 'ORIGIN_AIRPORT_PHL', 'ORIGIN_AIRPORT_PHX', 'ORIGIN_AIRPORT_PIT', 'ORIGIN_AIRPORT_RDU', 'ORIGIN_AIRPORT_RSW', 'ORIGIN_AIRPORT_SAN', 'ORIGIN_AIRPORT_SAT', 'ORIGIN_AIRPORT_SEA', 'ORIGIN_AIRPORT_SFO', 'ORIGIN_AIRPORT_SJC', 'ORIGIN_AIRPORT_SJU', 'ORIGIN_AIRPORT_SLC', 'ORIGIN_AIRPORT_SMF', 'ORIGIN_AIRPORT_SNA', 'ORIGIN_AIRPORT_STL', 'ORIGIN_AIRPORT_TPA', 'DESTINATION_AIRPORT_ATL', 'DESTINATION_AIRPORT_AUS', 'DESTINATION_AIRPORT_BDL', 'DESTINATION_AIRPORT_BNA', 'DESTINATION_AIRPORT_BOS', 'DESTINATION_AIRPORT_BUR', 'DESTINATION_AIRPORT_BWI', 'DESTINATION_AIRPORT_CLE', 'DESTINATION_AIRPORT_CLT', 'DESTINATION_AIRPORT_CMH', 'DESTINATION_AIRPORT_CVG', 'DESTINATION_AIRPORT_DAL', 'DESTINATION_AIRPORT_DCA', 'DESTINATION_AIRPORT_DEN', 'DESTINATION_AIRPORT_DFW', 'DESTINATION_AIRPORT_DTW', 'DESTINATION_AIRPORT_EWR', 'DESTINATION_AIRPORT_FLL', 'DESTINATION_AIRPORT_HNL', 'DESTINATION_AIRPORT_HOU', 'DESTINATION_AIRPORT_IAD', 'DESTINATION_AIRPORT_IAH', 'DESTINATION_AIRPORT_IND', 'DESTINATION_AIRPORT_JAX', 'DESTINATION_AIRPORT_JFK', 'DESTINATION_AIRPORT_LAS', 'DESTINATION_AIRPORT_LAX', 'DESTINATION_AIRPORT_LGA', 'DESTINATION_AIRPORT_MCI', 'DESTINATION_AIRPORT_MCO', 'DESTINATION_AIRPORT_MDW', 'DESTINATION_AIRPORT_MIA', 'DESTINATION_AIRPORT_MKE', 'DESTINATION_AIRPORT_MSP', 'DESTINATION_AIRPORT_MSY', 'DESTINATION_AIRPORT_OAK', 'DESTINATION_AIRPORT_OGG', 'DESTINATION_AIRPORT_ONT', 'DESTINATION_AIRPORT_ORD', 'DESTINATION_AIRPORT_PBI', 'DESTINATION_AIRPORT_PDX', 'DESTINATION_AIRPORT_PHL', 'DESTINATION_AIRPORT_PHX', 'DESTINATION_AIRPORT_PIT', 'DESTINATION_AIRPORT_RDU', 'DESTINATION_AIRPORT_RSW', 'DESTINATION_AIRPORT_SAN', 'DESTINATION_AIRPORT_SAT', 'DESTINATION_AIRPORT_SEA', 'DESTINATION_AIRPORT_SFO', 'DESTINATION_AIRPORT_SJC', 'DESTINATION_AIRPORT_SJU', 'DESTINATION_AIRPORT_SLC', 'DESTINATION_AIRPORT_SMF', 'DESTINATION_AIRPORT_SNA', 'DESTINATION_AIRPORT_STL', 'DESTINATION_AIRPORT_TPA', 'SCHEDULED_DEPARTURE_2', 'SCHEDULED_DEPARTURE_3', 'SCHEDULED_DEPARTURE_4']) \n",
    "plt.figure(figsize=(16, 12)) \n",
    "feat_importances.nlargest(10).plot(kind='barh') \n",
    "plt.savefig('regressionfeature_importance50.png', DPI = 600)"
   ]
  },
  {
   "cell_type": "markdown",
   "metadata": {},
   "source": [
    "# Load Validation Data"
   ]
  },
  {
   "cell_type": "code",
   "execution_count": 7,
   "metadata": {},
   "outputs": [
    {
     "name": "stdout",
     "output_type": "stream",
     "text": [
      "['target', 'DISTANCE', 'DIVERTED', 'MONTH_2', 'MONTH_3', 'MONTH_4', 'MONTH_5', 'MONTH_6', 'MONTH_7', 'MONTH_8', 'MONTH_9', 'MONTH_10', 'MONTH_11', 'MONTH_12', 'DAY_OF_WEEK_2', 'DAY_OF_WEEK_3', 'DAY_OF_WEEK_4', 'DAY_OF_WEEK_5', 'DAY_OF_WEEK_6', 'DAY_OF_WEEK_7', 'AIRLINE_AS', 'AIRLINE_B6', 'AIRLINE_DL', 'AIRLINE_EV', 'AIRLINE_F9', 'AIRLINE_HA', 'AIRLINE_MQ', 'AIRLINE_NK', 'AIRLINE_OO', 'AIRLINE_UA', 'AIRLINE_US', 'AIRLINE_VX', 'AIRLINE_WN', 'ORIGIN_AIRPORT_ATL', 'ORIGIN_AIRPORT_AUS', 'ORIGIN_AIRPORT_BDL', 'ORIGIN_AIRPORT_BNA', 'ORIGIN_AIRPORT_BOS', 'ORIGIN_AIRPORT_BUR', 'ORIGIN_AIRPORT_BWI', 'ORIGIN_AIRPORT_CLE', 'ORIGIN_AIRPORT_CLT', 'ORIGIN_AIRPORT_CMH', 'ORIGIN_AIRPORT_CVG', 'ORIGIN_AIRPORT_DAL', 'ORIGIN_AIRPORT_DCA', 'ORIGIN_AIRPORT_DEN', 'ORIGIN_AIRPORT_DFW', 'ORIGIN_AIRPORT_DTW', 'ORIGIN_AIRPORT_EWR', 'ORIGIN_AIRPORT_FLL', 'ORIGIN_AIRPORT_HNL', 'ORIGIN_AIRPORT_HOU', 'ORIGIN_AIRPORT_IAD', 'ORIGIN_AIRPORT_IAH', 'ORIGIN_AIRPORT_IND', 'ORIGIN_AIRPORT_JAX', 'ORIGIN_AIRPORT_JFK', 'ORIGIN_AIRPORT_LAS', 'ORIGIN_AIRPORT_LAX', 'ORIGIN_AIRPORT_LGA', 'ORIGIN_AIRPORT_MCI', 'ORIGIN_AIRPORT_MCO', 'ORIGIN_AIRPORT_MDW', 'ORIGIN_AIRPORT_MIA', 'ORIGIN_AIRPORT_MKE', 'ORIGIN_AIRPORT_MSP', 'ORIGIN_AIRPORT_MSY', 'ORIGIN_AIRPORT_OAK', 'ORIGIN_AIRPORT_OGG', 'ORIGIN_AIRPORT_ONT', 'ORIGIN_AIRPORT_ORD', 'ORIGIN_AIRPORT_PBI', 'ORIGIN_AIRPORT_PDX', 'ORIGIN_AIRPORT_PHL', 'ORIGIN_AIRPORT_PHX', 'ORIGIN_AIRPORT_PIT', 'ORIGIN_AIRPORT_RDU', 'ORIGIN_AIRPORT_RSW', 'ORIGIN_AIRPORT_SAN', 'ORIGIN_AIRPORT_SAT', 'ORIGIN_AIRPORT_SEA', 'ORIGIN_AIRPORT_SFO', 'ORIGIN_AIRPORT_SJC', 'ORIGIN_AIRPORT_SJU', 'ORIGIN_AIRPORT_SLC', 'ORIGIN_AIRPORT_SMF', 'ORIGIN_AIRPORT_SNA', 'ORIGIN_AIRPORT_STL', 'ORIGIN_AIRPORT_TPA', 'DESTINATION_AIRPORT_ATL', 'DESTINATION_AIRPORT_AUS', 'DESTINATION_AIRPORT_BDL', 'DESTINATION_AIRPORT_BNA', 'DESTINATION_AIRPORT_BOS', 'DESTINATION_AIRPORT_BUR', 'DESTINATION_AIRPORT_BWI', 'DESTINATION_AIRPORT_CLE', 'DESTINATION_AIRPORT_CLT', 'DESTINATION_AIRPORT_CMH', 'DESTINATION_AIRPORT_CVG', 'DESTINATION_AIRPORT_DAL', 'DESTINATION_AIRPORT_DCA', 'DESTINATION_AIRPORT_DEN', 'DESTINATION_AIRPORT_DFW', 'DESTINATION_AIRPORT_DTW', 'DESTINATION_AIRPORT_EWR', 'DESTINATION_AIRPORT_FLL', 'DESTINATION_AIRPORT_HNL', 'DESTINATION_AIRPORT_HOU', 'DESTINATION_AIRPORT_IAD', 'DESTINATION_AIRPORT_IAH', 'DESTINATION_AIRPORT_IND', 'DESTINATION_AIRPORT_JAX', 'DESTINATION_AIRPORT_JFK', 'DESTINATION_AIRPORT_LAS', 'DESTINATION_AIRPORT_LAX', 'DESTINATION_AIRPORT_LGA', 'DESTINATION_AIRPORT_MCI', 'DESTINATION_AIRPORT_MCO', 'DESTINATION_AIRPORT_MDW', 'DESTINATION_AIRPORT_MIA', 'DESTINATION_AIRPORT_MKE', 'DESTINATION_AIRPORT_MSP', 'DESTINATION_AIRPORT_MSY', 'DESTINATION_AIRPORT_OAK', 'DESTINATION_AIRPORT_OGG', 'DESTINATION_AIRPORT_ONT', 'DESTINATION_AIRPORT_ORD', 'DESTINATION_AIRPORT_PBI', 'DESTINATION_AIRPORT_PDX', 'DESTINATION_AIRPORT_PHL', 'DESTINATION_AIRPORT_PHX', 'DESTINATION_AIRPORT_PIT', 'DESTINATION_AIRPORT_RDU', 'DESTINATION_AIRPORT_RSW', 'DESTINATION_AIRPORT_SAN', 'DESTINATION_AIRPORT_SAT', 'DESTINATION_AIRPORT_SEA', 'DESTINATION_AIRPORT_SFO', 'DESTINATION_AIRPORT_SJC', 'DESTINATION_AIRPORT_SJU', 'DESTINATION_AIRPORT_SLC', 'DESTINATION_AIRPORT_SMF', 'DESTINATION_AIRPORT_SNA', 'DESTINATION_AIRPORT_STL', 'DESTINATION_AIRPORT_TPA', 'SCHEDULED_DEPARTURE_2', 'SCHEDULED_DEPARTURE_3', 'SCHEDULED_DEPARTURE_4']\n",
      "79502 79502\n",
      "\n",
      "\n"
     ]
    }
   ],
   "source": [
    "#####################\n",
    "#\n",
    "#    Load Data\n",
    "#\n",
    "#####################\n",
    "\n",
    "file2= csv.reader(open('regress_departure_validate.csv'), delimiter=',', quotechar='\"')\n",
    "\n",
    "#Read Header Line\n",
    "header2=next(file2)            \n",
    "\n",
    "#Read data\n",
    "data2=[]\n",
    "target2=[]\n",
    "for row in file2:\n",
    "    #Load Target\n",
    "    if row[target_idx]=='':                         #If target is blank, skip row                       \n",
    "        continue\n",
    "    else:\n",
    "        target2.append(float(row[target_idx]))       #If pre-binned class, change float to int\n",
    "\n",
    "    #Load row into temp array, cast columns  \n",
    "    temp2=[]\n",
    "                 \n",
    "    for j in range(feat_start,len(header2)):\n",
    "        if j == target_idx:\n",
    "            continue\n",
    "        if row[j]=='':\n",
    "            temp2.append(float())\n",
    "        else:\n",
    "            temp2.append(float(row[j]))\n",
    "\n",
    "    #Load temp into Data array\n",
    "    data2.append(temp2)\n",
    "  \n",
    "#Test Print\n",
    "print(header2)\n",
    "print(len(target2),len(data2))\n",
    "'''for i in range(10):\n",
    "    print(target[i])\n",
    "    print(data[i])'''\n",
    "print('\\n')\n",
    "\n",
    "data2_np=np.asarray(data2)\n",
    "target2_np=np.asarray(target2)\n",
    "\n",
    "\n"
   ]
  },
  {
   "cell_type": "markdown",
   "metadata": {},
   "source": [
    "# Fit on final model"
   ]
  },
  {
   "cell_type": "code",
   "execution_count": 18,
   "metadata": {},
   "outputs": [
    {
     "data": {
      "text/plain": [
       "<Figure size 432x288 with 0 Axes>"
      ]
     },
     "metadata": {},
     "output_type": "display_data"
    }
   ],
   "source": [
    "rgr.fit(data2_np, target2_np)\n",
    "scores_RMSE = math.sqrt(metrics.mean_squared_error(target_test,rgr.predict(data_test)))\n",
    "print('Final RMSE:', scores_RMSE)\n",
    "scores_Expl_Var = metrics.explained_variance_score(target_test,rgr.predict(data_test))\n",
    "print('Final Expl Var:', scores_Expl_Var)\n"
   ]
  },
  {
   "cell_type": "code",
   "execution_count": null,
   "metadata": {},
   "outputs": [],
   "source": [
    "tn, fp, fn, tp  = metrics.confusion_matrix(target2_np,(rgr.predict(data2_np).round())).ravel()"
   ]
  }
 ],
 "metadata": {
  "kernelspec": {
   "display_name": "Python 3",
   "language": "python",
   "name": "python3"
  },
  "language_info": {
   "codemirror_mode": {
    "name": "ipython",
    "version": 3
   },
   "file_extension": ".py",
   "mimetype": "text/x-python",
   "name": "python",
   "nbconvert_exporter": "python",
   "pygments_lexer": "ipython3",
   "version": "3.6.8"
  }
 },
 "nbformat": 4,
 "nbformat_minor": 2
}
